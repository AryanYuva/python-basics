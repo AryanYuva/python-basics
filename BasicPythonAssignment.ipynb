{
 "cells": [
  {
   "cell_type": "markdown",
   "id": "c64bc18e",
   "metadata": {},
   "source": [
    "# Theory Questions"
   ]
  },
  {
   "cell_type": "markdown",
   "id": "53139e4c",
   "metadata": {
    "raw_mimetype": "text/markdown"
   },
   "source": [
    "#### Q1: What is Python, and why is it popular?\n",
    "         -> Python is a high-level, interpreted programming language known for its simple and readable syntax. It supports multiple programming styles, including object-oriented and functional programming.\n",
    "\n",
    "    It is popular because it is easy to learn, has a large collection of libraries, supports various applications like web development, data science, and automation, and has a strong community for support.\n",
    "\n",
    "#### Q2:  What is an interpreter in Python?\n",
    "     -> An interpreter in Python is a program that reads and executes Python code line by line. It translates the human-readable Python code into machine code at runtime, allowing the program to run without needing to compile it first. This makes development and debugging easier.\n",
    "     \n",
    "#### Q3:  What are pre-defined keywords in Python?\n",
    "     -> Pre-defined keywords in Python are reserved words that have special meanings and purposes in the language. They are used to define the syntax and structure of Python programs (like if, else, while, def, class, etc.).\n",
    "\n",
    "    These keywords cannot be used as variable names because they are part of the Python language itself.\n",
    "\n",
    "#### Q4:  Can keywords be used as variable names?\n",
    "     -> No, keywords cannot be used as variable names in Python.\n",
    "\n",
    "        They are reserved words with special meaning in the language, and using them as variable names          will cause a syntax error.\n",
    "        For example, you cannot write:\n",
    "\n",
    "        if = 10  # ❌ This will cause an error\n",
    "\n",
    "\n",
    "#### Q5: What is mutability in Python?\n",
    "\n",
    "    -> Mutability in Python refers to whether an object’s value can be changed after it is created.\n",
    "\n",
    "        Mutable objects: Can be changed (e.g., list, dict, set)\n",
    "\n",
    "        Immutable objects: Cannot be changed (e.g., int, str, tuple)\n",
    "\n",
    "        For example:\n",
    "\n",
    "        x = [1, 2, 3]\n",
    "        x[0] = 10  # ✅ List is mutable\n",
    "\n",
    "        y = \"hello\"\n",
    "        y[0] = \"H\"  # ❌ String is immutable\n",
    "\n",
    "#### Q6: Why are lists mutable, but tuples are immutable?\n",
    "\n",
    "    -> Lists are mutable because they are designed to store a collection of items that may need to change — you can add, remove, or update elements.\n",
    "\n",
    "    Tuples are immutable to ensure data safety and consistency, especially when the data should not change (e.g., coordinates, fixed settings).\n",
    "\n",
    "    This design choice improves performance and allows tuples to be used as dictionary keys or in sets, which require immutable (hashable) types.\n",
    "\n",
    "#### Q7: What is the difference between \"==\" and \"is\" operators in Python?\n",
    "    -> \n",
    "    == checks if values are equal.\n",
    "    \n",
    "    Example: 5 == 5 → True\n",
    "\n",
    "    is checks if two variables point to the same object in memory.\n",
    "    Example:\n",
    "\n",
    "\n",
    "    a = [1, 2]\n",
    "    b = [1, 2]\n",
    "    a == b  # True (values are same)\n",
    "    a is b  # False (different objects in memory)\n",
    "\n",
    "#### Q8: What are logical operators in Python?\n",
    "\n",
    "    -> Logical operators in Python are used to combine multiple conditions. There are three main logical operators:\n",
    "\n",
    "        and – Returns True if both conditions are true\n",
    "        Example: 5 > 3 and 4 < 6 → True\n",
    "\n",
    "        or – Returns True if at least one condition is true\n",
    "        Example: 5 > 10 or 3 < 6 → True\n",
    "\n",
    "        not – Reverses the result (True becomes False, and vice versa)\n",
    "        Example: not (5 > 3) → False\n",
    "\n",
    "#### Q9: What is type casting in Python?\n",
    "    -> Type casting in Python means converting one data type into another.\n",
    "\n",
    "        For example, you can convert a string to an integer or a float to a string.\n",
    "\n",
    "        Examples:\n",
    "        x = \"10\"\n",
    "        y = int(x)   # Converts string to integer\n",
    "\n",
    "        a = 5\n",
    "        b = str(a)   # Converts integer to string\n",
    "\n",
    "        It helps when you need to perform operations between different data types.\n",
    "\n",
    "#### Q10: What is the difference between implicit and explicit type casting?\n",
    "\n",
    "     -> Implicit type casting is done automatically by Python, while\n",
    "        Explicit type casting is done manually by the programmer.\n",
    "\n",
    "        🔹 Implicit Type Casting\n",
    "        Python converts the data type on its own during an operation.\n",
    "        Example:\n",
    "\n",
    "        x = 5       # int  \n",
    "        y = 2.0     # float  \n",
    "        z = x + y   # Result is 7.0 (float)\n",
    "\n",
    "        🔹 Explicit Type Casting\n",
    "        You manually convert one type to another using functions like int(), float(), str().\n",
    "        Example:\n",
    "\n",
    "        x = \"10\"\n",
    "        y = int(x)   # string to int\n",
    "\n",
    "#### Q11: What is the purpose of conditional statements in Python?\n",
    "     -> The purpose of conditional statements in Python is to make decisions in a program. They let the program run different code depending on whether a condition is true or false.\n",
    "\n",
    "    age = 18\n",
    "    if age >= 18:\n",
    "        print(\"You can vote\")\n",
    "    else:\n",
    "        print(\"You cannot vote\")\n",
    "    So, conditional statements help control the flow of the program based on conditions.\n",
    "\n",
    "#### Q12: How does the elif statement work?\n",
    "     -> The elif statement in Python stands for \"else if\". It lets you check multiple conditions one by one after an if statement.\n",
    "\n",
    "    How it works:\n",
    "    Python checks the if condition first.\n",
    "\n",
    "    If if is false, it checks each elif in order.\n",
    "\n",
    "    If any elif is true, that block runs, and the rest are skipped.\n",
    "\n",
    "    If none are true, the else block (if present) runs.\n",
    "\n",
    "    x = 10\n",
    "\n",
    "    if x > 20:\n",
    "        print(\"Greater than 20\")\n",
    "    elif x == 10:\n",
    "        print(\"Equal to 10\")\n",
    "    else:\n",
    "        print(\"Something else\")\n",
    "    Output: Equal to 10\n",
    "\n",
    "#### Q13: What is the difference between for and while loops?\n",
    "          -> The difference between for and while loops in Python is:\n",
    "\n",
    "    🔹 for loop:\n",
    "    Used when you know how many times you want to repeat something.\n",
    "\n",
    "    Often used to loop through a sequence (like a list or range).\n",
    "\n",
    "    Example:\n",
    "\n",
    "    for i in range(5):\n",
    "        print(i)\n",
    "    🔹 while loop:\n",
    "    Used when you don’t know how many times, but you want to repeat until a condition becomes false.\n",
    "\n",
    "    Example:\n",
    "\n",
    "    i = 0\n",
    "    while i < 5:\n",
    "        print(i)\n",
    "        i += 1\n",
    "    In short:\n",
    "\n",
    "    Use for when you know the count.\n",
    "\n",
    "    Use while when you only know the condition.\n",
    "\n",
    "#### Q14: Describe a scenario where a while loop is more suitable than a for loop.\n",
    "          -> A while loop is more suitable when you don’t know in advance how many times the loop                  should run — you just want it to continue until a certain condition is met.\n",
    "\n",
    "                Example Scenario:\n",
    "                User Login System:\n",
    "                You want to keep asking the user for a password until they enter the correct one.\n",
    "\n",
    "                password = \"\"\n",
    "                while password != \"abc123\":\n",
    "                    password = input(\"Enter your password: \")\n",
    "\n",
    "                print(\"Access granted!\")\n",
    "                Here, a while loop is better because you don’t know how many tries the user will need."
   ]
  },
  {
   "cell_type": "markdown",
   "id": "2f97ca4a",
   "metadata": {},
   "source": [
    "# Practical Questions "
   ]
  },
  {
   "cell_type": "code",
   "execution_count": 3,
   "id": "a84b62be",
   "metadata": {},
   "outputs": [
    {
     "name": "stdout",
     "output_type": "stream",
     "text": [
      "Hello, World!\n"
     ]
    }
   ],
   "source": [
    "# Q1: Write a Python program to print \"Hello, World!\"\n",
    "print(\"Hello, World!\")\n"
   ]
  },
  {
   "cell_type": "code",
   "execution_count": 4,
   "id": "590e1498",
   "metadata": {},
   "outputs": [
    {
     "name": "stdout",
     "output_type": "stream",
     "text": [
      "please enter your name: Aryan\n",
      "please enter your age: 22\n",
      "name : Aryan, age : 22\n"
     ]
    }
   ],
   "source": [
    "#Q.2. WRITE A PYTHON PROGRAM THAT DISPLAYS YOUR NAME AND AGE.\n",
    "name= input(\"please enter your name: \")\n",
    "age= int(input(\"please enter your age: \"))\n",
    "print(f\"name : {name}, age : {age}\")\n",
    "\n"
   ]
  },
  {
   "cell_type": "code",
   "execution_count": 5,
   "id": "20a469f0",
   "metadata": {},
   "outputs": [
    {
     "name": "stdout",
     "output_type": "stream",
     "text": [
      "\n",
      "Here is a list of the Python keywords.  Enter any keyword to get more help.\n",
      "\n",
      "False               class               from                or\n",
      "None                continue            global              pass\n",
      "True                def                 if                  raise\n",
      "and                 del                 import              return\n",
      "as                  elif                in                  try\n",
      "assert              else                is                  while\n",
      "async               except              lambda              with\n",
      "await               finally             nonlocal            yield\n",
      "break               for                 not                 \n",
      "\n"
     ]
    }
   ],
   "source": [
    "#Q.3. WRITE CODE TO PRINT ALL THE PRE-DEFINED KEYWORDS IN PYTHON USING THE KEYWORD LIBRARY.\n",
    "help(\"keywords\")"
   ]
  },
  {
   "cell_type": "code",
   "execution_count": 7,
   "id": "bfc04086",
   "metadata": {},
   "outputs": [
    {
     "name": "stdout",
     "output_type": "stream",
     "text": [
      "Enter a word:True\n",
      "your entered word is a keyword in Python\n"
     ]
    }
   ],
   "source": [
    "#Q.4. WRITE A PROGRAM THAT CHECKS IF A GIVEN WORD IS A PYTHON KEYWORD.\n",
    "import keyword\n",
    "a= input(\"Enter a word:\")\n",
    "if keyword.iskeyword(a):\n",
    "  print(\"your entered word is a keyword in Python\")\n",
    "else:\n",
    "  print(\"your entered word is not a keyword in Python\")\n",
    "     "
   ]
  },
  {
   "cell_type": "code",
   "execution_count": 11,
   "id": "ce4d0aa7",
   "metadata": {},
   "outputs": [
    {
     "name": "stdout",
     "output_type": "stream",
     "text": [
      "[1, 2, 3.4, 'nihal', True, 'sonu']\n",
      "nihal\n",
      "Aryan\n"
     ]
    }
   ],
   "source": [
    "#Q.5. CREATE A LIST AND TUPLE IN PYTHON, AND DEMONSTRATE HOW ATTEMPTING TO CHANGE AN ELEMENT WORKS DIFFERENTLY FOR EACH .\n",
    "# changes in list element\n",
    "list_test= [1, 2, 3.4, \"nihal\", True, \"sonu\"]\n",
    "print(list_test)\n",
    "print(list_test[3])\n",
    "list_test[3] = \"Aryan\"\n",
    "print(list_test[3])"
   ]
  },
  {
   "cell_type": "code",
   "execution_count": 13,
   "id": "09b35745",
   "metadata": {},
   "outputs": [
    {
     "name": "stdout",
     "output_type": "stream",
     "text": [
      "(1, 2, 3.4, 'nihal', True, 'sonu')\n",
      "nihal\n"
     ]
    }
   ],
   "source": [
    "#now for tuple\n",
    "my_tuple=(1, 2, 3.4, \"nihal\", True, \"sonu\")\n",
    "print(my_tuple)\n",
    "print(my_tuple[3])"
   ]
  },
  {
   "cell_type": "code",
   "execution_count": 14,
   "id": "f22eaac1",
   "metadata": {},
   "outputs": [
    {
     "ename": "TypeError",
     "evalue": "'tuple' object does not support item assignment",
     "output_type": "error",
     "traceback": [
      "\u001b[1;31m---------------------------------------------------------------------------\u001b[0m",
      "\u001b[1;31mTypeError\u001b[0m                                 Traceback (most recent call last)",
      "Cell \u001b[1;32mIn[14], line 1\u001b[0m\n\u001b[1;32m----> 1\u001b[0m my_tuple[\u001b[38;5;241m3\u001b[39m] \u001b[38;5;241m=\u001b[39m \u001b[38;5;124m\"\u001b[39m\u001b[38;5;124mAryan\u001b[39m\u001b[38;5;124m\"\u001b[39m\n",
      "\u001b[1;31mTypeError\u001b[0m: 'tuple' object does not support item assignment"
     ]
    }
   ],
   "source": [
    "my_tuple[3] = \"Aryan\""
   ]
  },
  {
   "cell_type": "code",
   "execution_count": 15,
   "id": "bbdb65cd",
   "metadata": {},
   "outputs": [
    {
     "data": {
      "text/plain": [
       "[10, 2, 3.4, 'nihal']"
      ]
     },
     "execution_count": 15,
     "metadata": {},
     "output_type": "execute_result"
    }
   ],
   "source": [
    "#Q.6.WRITE A FUNCTION TO DEMONSTRATE THE BEHAVIOUR OF MUTABLE AND IMMUTABLE ARGUMENTS .\n",
    "# MUTABLE ARGUMENTS\n",
    "list_cont=[1, 2, 3.4, \"nihal\"]\n",
    "list_cont\n",
    "     \n",
    "[1, 2, 3.4, 'nihal']\n",
    "\n",
    "list_cont[0]=10\n",
    "     \n",
    "\n",
    "list_cont\n",
    "     \n",
    "[10, 2, 3.4, 'nihal']"
   ]
  },
  {
   "cell_type": "code",
   "execution_count": 16,
   "id": "00a00536",
   "metadata": {},
   "outputs": [
    {
     "ename": "NameError",
     "evalue": "name 'H' is not defined",
     "output_type": "error",
     "traceback": [
      "\u001b[1;31m---------------------------------------------------------------------------\u001b[0m",
      "\u001b[1;31mNameError\u001b[0m                                 Traceback (most recent call last)",
      "Cell \u001b[1;32mIn[16], line 7\u001b[0m\n\u001b[0;32m      3\u001b[0m a\n\u001b[0;32m      5\u001b[0m \u001b[38;5;124m'\u001b[39m\u001b[38;5;124mhello world\u001b[39m\u001b[38;5;124m'\u001b[39m\n\u001b[1;32m----> 7\u001b[0m a[\u001b[38;5;241m0\u001b[39m]\u001b[38;5;241m=\u001b[39m\u001b[43mH\u001b[49m\n",
      "\u001b[1;31mNameError\u001b[0m: name 'H' is not defined"
     ]
    }
   ],
   "source": [
    "#IMMUTABLE ARGUMENTS\n",
    "a= \"hello world\"\n",
    "a\n",
    "     \n",
    "'hello world'\n",
    "\n",
    "a[0]=H"
   ]
  },
  {
   "cell_type": "code",
   "execution_count": 17,
   "id": "c389ca7a",
   "metadata": {},
   "outputs": [
    {
     "data": {
      "text/plain": [
       "4"
      ]
     },
     "execution_count": 17,
     "metadata": {},
     "output_type": "execute_result"
    }
   ],
   "source": [
    "#Q.7.WRITE A PROGRAM THAT PERFORMS BASIC ARITHMETIC OPERATIONS ON TWO USER-INPUT NUMBERS.\n",
    "a=5\n",
    "b=3\n",
    "a**b\n",
    "     \n",
    "125\n",
    "\n",
    "a=9\n",
    "b=2\n",
    "a//b\n",
    "     \n",
    "4"
   ]
  },
  {
   "cell_type": "code",
   "execution_count": 21,
   "id": "1fef1cd4",
   "metadata": {},
   "outputs": [
    {
     "name": "stdout",
     "output_type": "stream",
     "text": [
      "False\n",
      "True\n",
      "False\n",
      "False\n"
     ]
    }
   ],
   "source": [
    "#Q.8. WRITE A PROGRAM TO DEMONSRATE THE USE OF LOGICAL OPERATORS.\n",
    "# AND OPERATORS\n",
    "a=True\n",
    "b=False\n",
    "print(a and b)\n",
    "     \n",
    "\n",
    "a= True\n",
    "b= True\n",
    "print(a and b)\n",
    "     \n",
    "\n",
    "a= False\n",
    "b= False\n",
    "print(a and b)\n",
    "     \n",
    "\n",
    "a= False\n",
    "b=True\n",
    "print(a and b)\n",
    "     "
   ]
  },
  {
   "cell_type": "code",
   "execution_count": 22,
   "id": "d39d6ee8",
   "metadata": {},
   "outputs": [
    {
     "name": "stdout",
     "output_type": "stream",
     "text": [
      "True\n",
      "True\n",
      "False\n",
      "True\n"
     ]
    }
   ],
   "source": [
    "# OR OPERTAORS\n",
    "a= True\n",
    "b= True\n",
    "print(a or b)\n",
    "     \n",
    "\n",
    "\n",
    "a= True\n",
    "b= False\n",
    "print(a or b)\n",
    "     \n",
    "\n",
    "a = False\n",
    "b= False\n",
    "print(a or b)\n",
    "     \n",
    "\n",
    "\n",
    "a= False\n",
    "b= True\n",
    "print(a or b)\n",
    "     \n"
   ]
  },
  {
   "cell_type": "code",
   "execution_count": 23,
   "id": "0e53a1d3",
   "metadata": {},
   "outputs": [
    {
     "data": {
      "text/plain": [
       "False"
      ]
     },
     "execution_count": 23,
     "metadata": {},
     "output_type": "execute_result"
    }
   ],
   "source": [
    "# NOT OPERATOR\n",
    "Z = True\n",
    "not Z"
   ]
  },
  {
   "cell_type": "code",
   "execution_count": 25,
   "id": "33cf3030",
   "metadata": {},
   "outputs": [
    {
     "name": "stdout",
     "output_type": "stream",
     "text": [
      "you are eligible to vote\n"
     ]
    }
   ],
   "source": [
    "#Checking Age Eligibility:\n",
    "age= 25\n",
    "if age >= 18:\n",
    "  print(\"you are eligible to vote\")\n",
    "else:\n",
    "  print(\"you are not elegible for vote\")\n",
    "     "
   ]
  },
  {
   "cell_type": "code",
   "execution_count": 26,
   "id": "4defae3e",
   "metadata": {},
   "outputs": [
    {
     "name": "stdout",
     "output_type": "stream",
     "text": [
      "<class 'int'>\n",
      "12.0\n",
      "<class 'float'>\n",
      "<class 'str'>\n",
      "12\n",
      "<class 'int'>\n"
     ]
    },
    {
     "data": {
      "text/plain": [
       "True"
      ]
     },
     "execution_count": 26,
     "metadata": {},
     "output_type": "execute_result"
    }
   ],
   "source": [
    "#Q.9.WRITE A PYTHON PROGRAM TO CONVERT USER INPUT FROM STRING, FLOAT, BOOLEAN TYPES.\n",
    "a= 12\n",
    "print(type(a))\n",
    "     \n",
    "\n",
    "b=float(a)\n",
    "print(b)\n",
    "     \n",
    "\n",
    "print(type(b))\n",
    "     \n",
    "float\n",
    "\n",
    "c=\"12\"\n",
    "\n",
    "print(type(c))\n",
    "     \n",
    "\n",
    "d=int(c)\n",
    "print(d)\n",
    "     \n",
    "print(type(d))\n",
    "     \n",
    "\n",
    "a is d\n",
    "\n",
    "bool(d)\n"
   ]
  },
  {
   "cell_type": "code",
   "execution_count": 28,
   "id": "ef5faf73",
   "metadata": {},
   "outputs": [
    {
     "name": "stdout",
     "output_type": "stream",
     "text": [
      "12.5\n",
      "type of z <class 'float'>\n",
      "10.0\n",
      "<class 'float'>\n",
      "4\n",
      "<class 'int'>\n",
      "27\n",
      "<class 'str'>\n"
     ]
    }
   ],
   "source": [
    "#Q.10.WRITE CODE TO DEMONSTRATE TTYPE CASTING WITH LIST ELEMENTS.\n",
    "# IMPLICIT TYPE CASTING\n",
    "x=10\n",
    "y=2.5\n",
    "z=x+y\n",
    "print(z)\n",
    "# Here the value of x is an int value and the value of y is float value but Python implicitly (automatically) done the sum\n",
    "     \n",
    "12.5\n",
    "\n",
    "print(\"type of z\", type(z))\n",
    "\n",
    "# EXPLICIT TYPE CASTING\n",
    "#INTEGER TO FLOT\n",
    "number = 10\n",
    "num_float=float(number)\n",
    "print(num_float)\n",
    "\n",
    "print(type(num_float))\n",
    "     \n",
    "\n",
    "# FLOAT TO INTEGER\n",
    "num_float=4.6\n",
    "number=int(num_float)\n",
    "print(number)\n",
    "\n",
    "print(type(number))\n",
    "     \n",
    "\n",
    "# INTEGER TO STRING\n",
    "number=27\n",
    "num_str=str(number)\n",
    "print(num_str)\n",
    "\n",
    "print(type(num_str))\n",
    "     \n"
   ]
  },
  {
   "cell_type": "code",
   "execution_count": 29,
   "id": "d70391dd",
   "metadata": {},
   "outputs": [
    {
     "name": "stdout",
     "output_type": "stream",
     "text": [
      " Please Enter a number:1\n",
      "number is positive\n"
     ]
    }
   ],
   "source": [
    "#Q.11.WRITE A PROGRAM THAT CHECKS IF A NUMBER IS POSITIVE, NEGATIVE, OR ZERO.\n",
    "num= float(input(\" Please Enter a number:\"))\n",
    "if num> 0:\n",
    "  print(\"number is positive\")\n",
    "elif num == 0:\n",
    "  print(\"Number is equal to zero\")\n",
    "else:\n",
    "  print(\"Number is negative\")\n",
    "     "
   ]
  },
  {
   "cell_type": "code",
   "execution_count": 30,
   "id": "5ec72076",
   "metadata": {},
   "outputs": [
    {
     "name": "stdout",
     "output_type": "stream",
     "text": [
      "1\n",
      "2\n",
      "3\n",
      "4\n",
      "5\n",
      "6\n",
      "7\n",
      "8\n",
      "9\n",
      "10\n"
     ]
    }
   ],
   "source": [
    "#Q.12. WRITE A FOR LOOP TO PRINT NUMBERS FROM 1 TO 10.\n",
    "for i in range(1, 11):\n",
    "  print(i)"
   ]
  },
  {
   "cell_type": "code",
   "execution_count": 31,
   "id": "97b2ae7e",
   "metadata": {},
   "outputs": [
    {
     "name": "stdout",
     "output_type": "stream",
     "text": [
      "The sum if all the even number upto 50 is 600\n"
     ]
    }
   ],
   "source": [
    "#Q.13. WRITE A PYTHON PROGRAM TO FIND THE SUM OF ALL EVEN NUMBERS BETWEEN 1 AND 50.\n",
    "even_sum=0\n",
    "for i in range(0,50,2):\n",
    "  even_sum=even_sum+i\n",
    "\n",
    "print(f\"The sum if all the even number upto 50 is {even_sum}\")\n"
   ]
  },
  {
   "cell_type": "code",
   "execution_count": 34,
   "id": "c5a0ff44",
   "metadata": {},
   "outputs": [
    {
     "name": "stdout",
     "output_type": "stream",
     "text": [
      "Reversed string: olleh\n"
     ]
    }
   ],
   "source": [
    "#Q.14. WRITE A PROGRAM TO REVERSE A STRING USING A WHILE LOOP.\n",
    "# Input string\n",
    "text = \"hello\"\n",
    "reversed_text = \"\"\n",
    "index = len(text) - 1\n",
    "\n",
    "# While loop to reverse the string\n",
    "while index >= 0:\n",
    "    reversed_text += text[index]\n",
    "    index -= 1\n",
    "\n",
    "# Output\n",
    "print(\"Reversed string:\", reversed_text)\n"
   ]
  },
  {
   "cell_type": "code",
   "execution_count": 33,
   "id": "0636ff91",
   "metadata": {},
   "outputs": [
    {
     "name": "stdout",
     "output_type": "stream",
     "text": [
      "24\n"
     ]
    }
   ],
   "source": [
    "#Q.15.WRITE A PYTHON PROGRAM TO CALCULATE THE FACTORIAL OF A NUMBER PROVIDED BY THE USING A WHILE LOOP.\n",
    "number = 4\n",
    "factorial = 1\n",
    "i = 1\n",
    "while i <= number:\n",
    "  factorial = factorial * i\n",
    "  i = i +1\n",
    "print(factorial)\n"
   ]
  },
  {
   "cell_type": "code",
   "execution_count": null,
   "id": "aeb75680",
   "metadata": {},
   "outputs": [],
   "source": []
  }
 ],
 "metadata": {
  "celltoolbar": "Raw Cell Format",
  "kernelspec": {
   "display_name": "Python 3 (ipykernel)",
   "language": "python",
   "name": "python3"
  },
  "language_info": {
   "codemirror_mode": {
    "name": "ipython",
    "version": 3
   },
   "file_extension": ".py",
   "mimetype": "text/x-python",
   "name": "python",
   "nbconvert_exporter": "python",
   "pygments_lexer": "ipython3",
   "version": "3.10.9"
  }
 },
 "nbformat": 4,
 "nbformat_minor": 5
}
